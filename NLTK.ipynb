{
 "cells": [
  {
   "cell_type": "code",
   "execution_count": 1,
   "id": "98dd1aca",
   "metadata": {},
   "outputs": [
    {
     "ename": "ModuleNotFoundError",
     "evalue": "No module named 'nltk'",
     "output_type": "error",
     "traceback": [
      "\u001b[1;31m---------------------------------------------------------------------------\u001b[0m",
      "\u001b[1;31mModuleNotFoundError\u001b[0m                       Traceback (most recent call last)",
      "\u001b[1;32m~\\AppData\\Local\\Temp\\ipykernel_1752\\1734127563.py\u001b[0m in \u001b[0;36m<module>\u001b[1;34m\u001b[0m\n\u001b[1;32m----> 1\u001b[1;33m \u001b[1;32mimport\u001b[0m \u001b[0mnltk\u001b[0m\u001b[1;33m\u001b[0m\u001b[1;33m\u001b[0m\u001b[0m\n\u001b[0m",
      "\u001b[1;31mModuleNotFoundError\u001b[0m: No module named 'nltk'"
     ]
    }
   ],
   "source": [
    "import nltk"
   ]
  },
  {
   "cell_type": "code",
   "execution_count": 11,
   "id": "cb63c5e1",
   "metadata": {},
   "outputs": [
    {
     "name": "stdout",
     "output_type": "stream",
     "text": [
      "Requirement already satisfied: nltk in c:\\users\\97150\\anaconda3\\envs\\new_env\\lib\\site-packages (3.8.1)\n",
      "Requirement already satisfied: tqdm in c:\\users\\97150\\anaconda3\\envs\\new_env\\lib\\site-packages (from nltk) (4.66.1)\n",
      "Requirement already satisfied: click in c:\\users\\97150\\anaconda3\\envs\\new_env\\lib\\site-packages (from nltk) (8.0.4)\n",
      "Requirement already satisfied: joblib in c:\\users\\97150\\anaconda3\\envs\\new_env\\lib\\site-packages (from nltk) (1.1.0)\n",
      "Requirement already satisfied: regex>=2021.8.3 in c:\\users\\97150\\anaconda3\\envs\\new_env\\lib\\site-packages (from nltk) (2023.8.8)\n",
      "Requirement already satisfied: colorama in c:\\users\\97150\\anaconda3\\envs\\new_env\\lib\\site-packages (from click->nltk) (0.4.5)\n",
      "Requirement already satisfied: importlib-metadata in c:\\users\\97150\\anaconda3\\envs\\new_env\\lib\\site-packages (from click->nltk) (4.11.3)\n",
      "Requirement already satisfied: typing-extensions>=3.6.4 in c:\\users\\97150\\anaconda3\\envs\\new_env\\lib\\site-packages (from importlib-metadata->click->nltk) (4.3.0)\n",
      "Requirement already satisfied: zipp>=0.5 in c:\\users\\97150\\anaconda3\\envs\\new_env\\lib\\site-packages (from importlib-metadata->click->nltk) (3.8.0)\n",
      "Note: you may need to restart the kernel to use updated packages.\n"
     ]
    }
   ],
   "source": [
    "pip install nltk"
   ]
  },
  {
   "cell_type": "code",
   "execution_count": 12,
   "id": "73c7135c",
   "metadata": {},
   "outputs": [],
   "source": [
    "import nltk"
   ]
  },
  {
   "cell_type": "code",
   "execution_count": 13,
   "id": "1106682a",
   "metadata": {},
   "outputs": [
    {
     "name": "stderr",
     "output_type": "stream",
     "text": [
      "[nltk_data] Error loading all: <urlopen error [Errno 11001]\n",
      "[nltk_data]     getaddrinfo failed>\n"
     ]
    },
    {
     "data": {
      "text/plain": [
       "False"
      ]
     },
     "execution_count": 13,
     "metadata": {},
     "output_type": "execute_result"
    }
   ],
   "source": [
    "nltk.download('all')"
   ]
  },
  {
   "cell_type": "code",
   "execution_count": 14,
   "id": "e134ec5f",
   "metadata": {},
   "outputs": [],
   "source": [
    "from nltk.corpus import stopwords\n",
    "from nltk.tokenize import word_tokenize, sent_tokenize\n",
    "from nltk.stem import PorterStemmer, WordNetLemmatizer\n",
    "import string"
   ]
  },
  {
   "cell_type": "code",
   "execution_count": 15,
   "id": "49921352",
   "metadata": {},
   "outputs": [
    {
     "name": "stderr",
     "output_type": "stream",
     "text": [
      "[nltk_data] Error loading punkt: <urlopen error [Errno 11001]\n",
      "[nltk_data]     getaddrinfo failed>\n",
      "[nltk_data] Error loading stopwords: <urlopen error [Errno 11001]\n",
      "[nltk_data]     getaddrinfo failed>\n",
      "[nltk_data] Error loading wordnet: <urlopen error [Errno 11001]\n",
      "[nltk_data]     getaddrinfo failed>\n"
     ]
    },
    {
     "data": {
      "text/plain": [
       "False"
      ]
     },
     "execution_count": 15,
     "metadata": {},
     "output_type": "execute_result"
    }
   ],
   "source": [
    "nltk.download('punkt')\n",
    "nltk.download('stopwords')\n",
    "nltk.download('wordnet')"
   ]
  },
  {
   "cell_type": "code",
   "execution_count": 16,
   "id": "d11cee61",
   "metadata": {},
   "outputs": [],
   "source": [
    "text = \"Tokenization is an important step in Natural Language Processing (NLP). It breaks down text into smaller units called tokens. These tokens can be words, sentences, or even characters.\""
   ]
  },
  {
   "cell_type": "code",
   "execution_count": 17,
   "id": "98179780",
   "metadata": {},
   "outputs": [
    {
     "data": {
      "text/plain": [
       "'Tokenization is an important step in Natural Language Processing (NLP). It breaks down text into smaller units called tokens. These tokens can be words, sentences, or even characters.'"
      ]
     },
     "execution_count": 17,
     "metadata": {},
     "output_type": "execute_result"
    }
   ],
   "source": [
    "text"
   ]
  },
  {
   "cell_type": "code",
   "execution_count": 20,
   "id": "f9e501f0",
   "metadata": {},
   "outputs": [
    {
     "name": "stdout",
     "output_type": "stream",
     "text": [
      "Word Tokens:\n",
      "['Tokenization', 'is', 'an', 'important', 'step', 'in', 'Natural', 'Language', 'Processing', '(', 'NLP', ')', '.', 'It', 'breaks', 'down', 'text', 'into', 'smaller', 'units', 'called', 'tokens', '.', 'These', 'tokens', 'can', 'be', 'words', ',', 'sentences', ',', 'or', 'even', 'characters', '.']\n"
     ]
    }
   ],
   "source": [
    "tokens = word_tokenize(text)\n",
    "print(\"Word Tokens:\")\n",
    "print(tokens)\n"
   ]
  },
  {
   "cell_type": "code",
   "execution_count": 21,
   "id": "bef34012",
   "metadata": {},
   "outputs": [
    {
     "name": "stdout",
     "output_type": "stream",
     "text": [
      "Sentences:\n",
      "['Tokenization is an important step in Natural Language Processing (NLP).', 'It breaks down text into smaller units called tokens.', 'These tokens can be words, sentences, or even characters.']\n",
      "\n"
     ]
    }
   ],
   "source": [
    "sentences = sent_tokenize(text)\n",
    "print(\"Sentences:\")\n",
    "print(sentences)\n",
    "print()"
   ]
  },
  {
   "cell_type": "code",
   "execution_count": 22,
   "id": "537c67af",
   "metadata": {},
   "outputs": [
    {
     "name": "stdout",
     "output_type": "stream",
     "text": [
      "Tokens after removing stop words:\n",
      "['Tokenization', 'important', 'step', 'Natural', 'Language', 'Processing', '(', 'NLP', ')', '.', 'breaks', 'text', 'smaller', 'units', 'called', 'tokens', '.', 'tokens', 'words', ',', 'sentences', ',', 'even', 'characters', '.']\n",
      "\n"
     ]
    }
   ],
   "source": [
    "stop_words = set(stopwords.words('english'))\n",
    "filtered_tokens = [token for token in tokens if token.casefold() not in stop_words]\n",
    "print(\"Tokens after removing stop words:\")\n",
    "print(filtered_tokens)\n",
    "print()"
   ]
  },
  {
   "cell_type": "code",
   "execution_count": 23,
   "id": "dfc8e63c",
   "metadata": {},
   "outputs": [
    {
     "name": "stdout",
     "output_type": "stream",
     "text": [
      "Stemmed Tokens:\n",
      "['token', 'import', 'step', 'natur', 'languag', 'process', '(', 'nlp', ')', '.', 'break', 'text', 'smaller', 'unit', 'call', 'token', '.', 'token', 'word', ',', 'sentenc', ',', 'even', 'charact', '.']\n",
      "\n"
     ]
    }
   ],
   "source": [
    "stemmer = PorterStemmer()\n",
    "stemmed_tokens = [stemmer.stem(token) for token in filtered_tokens]\n",
    "print(\"Stemmed Tokens:\")\n",
    "print(stemmed_tokens)\n",
    "print()"
   ]
  },
  {
   "cell_type": "code",
   "execution_count": 24,
   "id": "2ccd8a8d",
   "metadata": {},
   "outputs": [
    {
     "name": "stdout",
     "output_type": "stream",
     "text": [
      "Lemmatized Tokens:\n",
      "['Tokenization', 'important', 'step', 'Natural', 'Language', 'Processing', '(', 'NLP', ')', '.', 'break', 'text', 'smaller', 'unit', 'called', 'token', '.', 'token', 'word', ',', 'sentence', ',', 'even', 'character', '.']\n",
      "\n"
     ]
    }
   ],
   "source": [
    "lemmatizer = WordNetLemmatizer()\n",
    "lemmatized_tokens = [lemmatizer.lemmatize(token) for token in filtered_tokens]\n",
    "print(\"Lemmatized Tokens:\")\n",
    "print(lemmatized_tokens)\n",
    "print()"
   ]
  },
  {
   "cell_type": "code",
   "execution_count": 25,
   "id": "5b0aeb90",
   "metadata": {},
   "outputs": [
    {
     "name": "stdout",
     "output_type": "stream",
     "text": [
      "Tokens after handling special characters:\n",
      "['Tokenization', 'is', 'an', 'important', 'step', 'in', 'Natural', 'Language', 'Processing', 'NLP', 'It', 'breaks', 'down', 'text', 'into', 'smaller', 'units', 'called', 'tokens', 'These', 'tokens', 'can', 'be', 'words', 'sentences', 'or', 'even', 'characters']\n"
     ]
    }
   ],
   "source": [
    "special_chars = set(string.punctuation)\n",
    "filtered_tokens = [token for token in tokens if token not in special_chars]\n",
    "print(\"Tokens after handling special characters:\")\n",
    "print(filtered_tokens)"
   ]
  },
  {
   "cell_type": "code",
   "execution_count": 26,
   "id": "a4f2f054",
   "metadata": {},
   "outputs": [
    {
     "name": "stdout",
     "output_type": "stream",
     "text": [
      "NLTK: NNP\n",
      "provides: VBZ\n",
      "powerful: JJ\n",
      "tools: NNS\n",
      "for: IN\n",
      "performing: VBG\n",
      "POS: NNP\n",
      "tagging: NN\n",
      ".: .\n"
     ]
    }
   ],
   "source": [
    "# Part-of-Speech Tagging useing the Penn Treebank tagset.\n",
    "\n",
    "# Sample text for demonstration\n",
    "text = \"NLTK provides powerful tools for performing POS tagging.\"\n",
    "\n",
    "# Tokenize the text into words\n",
    "tokens = word_tokenize(text)\n",
    "\n",
    "# Perform POS tagging\n",
    "pos_tags = nltk.pos_tag(tokens)\n",
    "\n",
    "# Print the POS tags\n",
    "for token, pos_tag in pos_tags:\n",
    "    print(f\"{token}: {pos_tag}\")\n"
   ]
  },
  {
   "cell_type": "code",
   "execution_count": 28,
   "id": "31fb61a1",
   "metadata": {},
   "outputs": [
    {
     "name": "stderr",
     "output_type": "stream",
     "text": [
      "[nltk_data] Error loading maxent_ne_chunker: <urlopen error [Errno\n",
      "[nltk_data]     11001] getaddrinfo failed>\n",
      "[nltk_data] Error loading words: <urlopen error [Errno 11001]\n",
      "[nltk_data]     getaddrinfo failed>\n"
     ]
    },
    {
     "data": {
      "text/plain": [
       "False"
      ]
     },
     "execution_count": 28,
     "metadata": {},
     "output_type": "execute_result"
    }
   ],
   "source": [
    "# Named Entity Recognition with NLTK\n",
    "# Download necessary NLTK resources (only required once)\n",
    "nltk.download('maxent_ne_chunker')\n",
    "nltk.download('words')"
   ]
  },
  {
   "cell_type": "code",
   "execution_count": 29,
   "id": "1c88afaf",
   "metadata": {},
   "outputs": [],
   "source": [
    "from nltk import ne_chunk\n",
    "from nltk.tokenize import word_tokenize\n",
    "\n",
    "# Sample text for demonstration\n",
    "text = \"Apple Inc. was founded by Steve Jobs, Steve Wozniak, and Ronald Wayne. Its headquarters are located in Cupertino, California.\"\n",
    "\n",
    "# Tokenize the text into words\n",
    "tokens = word_tokenize(text)"
   ]
  },
  {
   "cell_type": "code",
   "execution_count": 31,
   "id": "35d81a9e",
   "metadata": {},
   "outputs": [
    {
     "name": "stdout",
     "output_type": "stream",
     "text": [
      "Entity: Apple | Type: PERSON\n",
      "Entity: Inc. | Type: ORGANIZATION\n",
      "Entity: Steve Jobs | Type: PERSON\n",
      "Entity: Steve Wozniak | Type: PERSON\n",
      "Entity: Ronald Wayne | Type: PERSON\n",
      "Entity: Cupertino | Type: GPE\n",
      "Entity: California | Type: GPE\n"
     ]
    }
   ],
   "source": [
    "# Apply NER using NLTK's pre-trained models\n",
    "ner_tags = ne_chunk(nltk.pos_tag(tokens))\n",
    "\n",
    "# Print the named entities\n",
    "for chunk in ner_tags:\n",
    "    if hasattr(chunk, 'label'):\n",
    "        print(f\"Entity: {' '.join(c[0] for c in chunk)} | Type: {chunk.label()}\")"
   ]
  },
  {
   "cell_type": "code",
   "execution_count": null,
   "id": "64acf27a",
   "metadata": {},
   "outputs": [],
   "source": []
  }
 ],
 "metadata": {
  "kernelspec": {
   "display_name": "Python 3 (ipykernel)",
   "language": "python",
   "name": "python3"
  },
  "language_info": {
   "codemirror_mode": {
    "name": "ipython",
    "version": 3
   },
   "file_extension": ".py",
   "mimetype": "text/x-python",
   "name": "python",
   "nbconvert_exporter": "python",
   "pygments_lexer": "ipython3",
   "version": "3.7.13"
  }
 },
 "nbformat": 4,
 "nbformat_minor": 5
}
